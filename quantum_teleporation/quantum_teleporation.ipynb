{
 "cells": [
  {
   "cell_type": "markdown",
   "id": "8061c533",
   "metadata": {},
   "source": [
    "# Quantum Teleportation\n",
    "\n",
    "\n",
    "\n",
    "This notebook has been made to give a comprehensive understanding of the **quantum teleportation protocol** (aka Alice and Bob protocol). We will use the python SDK [Qiskit](https://www.ibm.com/quantum/qiskit) developped by [IBM](https://www.ibm.com)."
   ]
  },
  {
   "cell_type": "markdown",
   "id": "47c07230",
   "metadata": {},
   "source": [
    "## Rough introduction\n",
    "\n",
    "The **quantum teleportation protocol** demonstrates the power of **entangled states** in quantum computation. This protocol aims to tranmit a quantum state between two parties with a small classical overhead"
   ]
  },
  {
   "cell_type": "markdown",
   "id": "b90f56c5",
   "metadata": {},
   "source": [
    "# Requirements\n",
    "\n",
    "\n",
    "## Technical requirements\n",
    "\n",
    "As mentionned above, some python packages need to be installed: `qiskit`, `qiskit_ibm_runtime`,  `qiskit_aer` and `matplotlib`"
   ]
  },
  {
   "cell_type": "code",
   "execution_count": 61,
   "id": "2b1ad8ad",
   "metadata": {},
   "outputs": [
    {
     "name": "stdout",
     "output_type": "stream",
     "text": [
      "Requirement already satisfied: qiskit in /Users/julienladeuze/Desktop/qiskit/lib/python3.13/site-packages (2.1.1)\n",
      "Requirement already satisfied: qiskit_ibm_runtime in /Users/julienladeuze/Desktop/qiskit/lib/python3.13/site-packages (0.40.1)\n",
      "Requirement already satisfied: qiskit_aer in /Users/julienladeuze/Desktop/qiskit/lib/python3.13/site-packages (0.17.1)\n",
      "Requirement already satisfied: matplotlib in /Users/julienladeuze/Desktop/qiskit/lib/python3.13/site-packages (3.10.3)\n",
      "Requirement already satisfied: rustworkx>=0.15.0 in /Users/julienladeuze/Desktop/qiskit/lib/python3.13/site-packages (from qiskit) (0.16.0)\n",
      "Requirement already satisfied: numpy<3,>=1.17 in /Users/julienladeuze/Desktop/qiskit/lib/python3.13/site-packages (from qiskit) (2.3.1)\n",
      "Requirement already satisfied: scipy>=1.5 in /Users/julienladeuze/Desktop/qiskit/lib/python3.13/site-packages (from qiskit) (1.16.0)\n",
      "Requirement already satisfied: dill>=0.3 in /Users/julienladeuze/Desktop/qiskit/lib/python3.13/site-packages (from qiskit) (0.4.0)\n",
      "Requirement already satisfied: stevedore>=3.0.0 in /Users/julienladeuze/Desktop/qiskit/lib/python3.13/site-packages (from qiskit) (5.4.1)\n",
      "Requirement already satisfied: typing-extensions in /Users/julienladeuze/Desktop/qiskit/lib/python3.13/site-packages (from qiskit) (4.14.1)\n",
      "Requirement already satisfied: requests>=2.19 in /Users/julienladeuze/Desktop/qiskit/lib/python3.13/site-packages (from qiskit_ibm_runtime) (2.32.4)\n",
      "Requirement already satisfied: requests-ntlm>=1.1.0 in /Users/julienladeuze/Desktop/qiskit/lib/python3.13/site-packages (from qiskit_ibm_runtime) (1.3.0)\n",
      "Requirement already satisfied: urllib3>=1.21.1 in /Users/julienladeuze/Desktop/qiskit/lib/python3.13/site-packages (from qiskit_ibm_runtime) (2.5.0)\n",
      "Requirement already satisfied: python-dateutil>=2.8.0 in /Users/julienladeuze/Desktop/qiskit/lib/python3.13/site-packages (from qiskit_ibm_runtime) (2.9.0.post0)\n",
      "Requirement already satisfied: ibm-platform-services>=0.22.6 in /Users/julienladeuze/Desktop/qiskit/lib/python3.13/site-packages (from qiskit_ibm_runtime) (0.67.0)\n",
      "Requirement already satisfied: pydantic>=2.5.0 in /Users/julienladeuze/Desktop/qiskit/lib/python3.13/site-packages (from qiskit_ibm_runtime) (2.11.7)\n",
      "Requirement already satisfied: packaging in /Users/julienladeuze/Desktop/qiskit/lib/python3.13/site-packages (from qiskit_ibm_runtime) (25.0)\n",
      "Requirement already satisfied: psutil>=5 in /Users/julienladeuze/Desktop/qiskit/lib/python3.13/site-packages (from qiskit_aer) (7.0.0)\n",
      "Requirement already satisfied: contourpy>=1.0.1 in /Users/julienladeuze/Desktop/qiskit/lib/python3.13/site-packages (from matplotlib) (1.3.2)\n",
      "Requirement already satisfied: cycler>=0.10 in /Users/julienladeuze/Desktop/qiskit/lib/python3.13/site-packages (from matplotlib) (0.12.1)\n",
      "Requirement already satisfied: fonttools>=4.22.0 in /Users/julienladeuze/Desktop/qiskit/lib/python3.13/site-packages (from matplotlib) (4.58.5)\n",
      "Requirement already satisfied: kiwisolver>=1.3.1 in /Users/julienladeuze/Desktop/qiskit/lib/python3.13/site-packages (from matplotlib) (1.4.8)\n",
      "Requirement already satisfied: pillow>=8 in /Users/julienladeuze/Desktop/qiskit/lib/python3.13/site-packages (from matplotlib) (11.3.0)\n",
      "Requirement already satisfied: pyparsing>=2.3.1 in /Users/julienladeuze/Desktop/qiskit/lib/python3.13/site-packages (from matplotlib) (3.2.3)\n",
      "Requirement already satisfied: ibm_cloud_sdk_core<4.0.0,>=3.24.2 in /Users/julienladeuze/Desktop/qiskit/lib/python3.13/site-packages (from ibm-platform-services>=0.22.6->qiskit_ibm_runtime) (3.24.2)\n",
      "Requirement already satisfied: PyJWT<3.0.0,>=2.10.1 in /Users/julienladeuze/Desktop/qiskit/lib/python3.13/site-packages (from ibm_cloud_sdk_core<4.0.0,>=3.24.2->ibm-platform-services>=0.22.6->qiskit_ibm_runtime) (2.10.1)\n",
      "Requirement already satisfied: six>=1.5 in /Users/julienladeuze/Desktop/qiskit/lib/python3.13/site-packages (from python-dateutil>=2.8.0->qiskit_ibm_runtime) (1.17.0)\n",
      "Requirement already satisfied: charset_normalizer<4,>=2 in /Users/julienladeuze/Desktop/qiskit/lib/python3.13/site-packages (from requests>=2.19->qiskit_ibm_runtime) (3.4.2)\n",
      "Requirement already satisfied: idna<4,>=2.5 in /Users/julienladeuze/Desktop/qiskit/lib/python3.13/site-packages (from requests>=2.19->qiskit_ibm_runtime) (3.10)\n",
      "Requirement already satisfied: certifi>=2017.4.17 in /Users/julienladeuze/Desktop/qiskit/lib/python3.13/site-packages (from requests>=2.19->qiskit_ibm_runtime) (2025.7.14)\n",
      "Requirement already satisfied: annotated-types>=0.6.0 in /Users/julienladeuze/Desktop/qiskit/lib/python3.13/site-packages (from pydantic>=2.5.0->qiskit_ibm_runtime) (0.7.0)\n",
      "Requirement already satisfied: pydantic-core==2.33.2 in /Users/julienladeuze/Desktop/qiskit/lib/python3.13/site-packages (from pydantic>=2.5.0->qiskit_ibm_runtime) (2.33.2)\n",
      "Requirement already satisfied: typing-inspection>=0.4.0 in /Users/julienladeuze/Desktop/qiskit/lib/python3.13/site-packages (from pydantic>=2.5.0->qiskit_ibm_runtime) (0.4.1)\n",
      "Requirement already satisfied: cryptography>=1.3 in /Users/julienladeuze/Desktop/qiskit/lib/python3.13/site-packages (from requests-ntlm>=1.1.0->qiskit_ibm_runtime) (45.0.5)\n",
      "Requirement already satisfied: pyspnego>=0.4.0 in /Users/julienladeuze/Desktop/qiskit/lib/python3.13/site-packages (from requests-ntlm>=1.1.0->qiskit_ibm_runtime) (0.11.2)\n",
      "Requirement already satisfied: cffi>=1.14 in /Users/julienladeuze/Desktop/qiskit/lib/python3.13/site-packages (from cryptography>=1.3->requests-ntlm>=1.1.0->qiskit_ibm_runtime) (1.17.1)\n",
      "Requirement already satisfied: pycparser in /Users/julienladeuze/Desktop/qiskit/lib/python3.13/site-packages (from cffi>=1.14->cryptography>=1.3->requests-ntlm>=1.1.0->qiskit_ibm_runtime) (2.22)\n",
      "Requirement already satisfied: pbr>=2.0.0 in /Users/julienladeuze/Desktop/qiskit/lib/python3.13/site-packages (from stevedore>=3.0.0->qiskit) (6.1.1)\n",
      "Requirement already satisfied: setuptools in /Users/julienladeuze/Desktop/qiskit/lib/python3.13/site-packages (from pbr>=2.0.0->stevedore>=3.0.0->qiskit) (80.9.0)\n"
     ]
    }
   ],
   "source": [
    "!pip install qiskit qiskit_ibm_runtime qiskit_aer matplotlib"
   ]
  },
  {
   "cell_type": "markdown",
   "id": "9b8d33c3",
   "metadata": {},
   "source": [
    "## Theoretical requirements\n",
    "\n",
    "To understand this notebook, we provide both a theoretical and pratical approach. However, some basic notions are required such as *the ket*, *qubit* or *the tensor product*. Some good references are available on internet.\n",
    "\n",
    "- [IBM quantum learning platform](https://quantum.cloud.ibm.com/learning/en)\n",
    "- [The bible for quantum computation](https://archive.org/details/QuantumComputationAndQuantumInformation10thAnniversaryEdition/page/n305/mode/2up)\n",
    "- [Mathematics behind quantum computation](https://link.springer.com/book/10.1007/978-3-030-12358-1) (quite indigestible to assimilate)"
   ]
  },
  {
   "cell_type": "markdown",
   "id": "1b74d217",
   "metadata": {},
   "source": [
    "## Entanglement state\n",
    "\n",
    "An entanglement state is a quantum state that represents at any time two quantum systems indistinguishable from each other. For example, let's say that a quantum system is described as a particle. The particles of our two systems are staying billions of kilometers away from each other. If those two particles are entangled, when one of these has been read out, we can **instantly** determine the state of the other no matter the distance. Since the speed light is finite, it is quite fancy to admit the transmission of information from one galaxy to another is done in a snap!\n",
    "\n",
    "\n",
    "\n",
    "More formally, assume two quantum systems $H_A$, $H_B$ and a entangled state $\\ket{\\psi}$. We have for any state $\\ket{\\psi}_A \\in H_A$ and $\\ket{\\psi}_B \\in H_B$,\n",
    "$$\n",
    "\\ket{\\psi} \\neq \\ket{\\psi}_A \\otimes \\ket{\\psi}_B\n",
    "$$\n",
    "For example, the Bell state $\\ket{\\Psi} = \\frac{1}{\\sqrt{2}} (\\ket{00} + \\ket{11})$ is said to be entangled since it is **impossible to find two distinct states** such that the tensor product between them results in $\\ket{\\Psi}$.\n",
    "\n",
    "> **PROOF**:\n",
    "> \n",
    "> Let's suppose there exists two distincs states  $\\ket{\\psi}_A \\in H_A$ and $\\ket{\\psi}_B \\in H_B$ such that\n",
    "> $$\n",
    "\\frac{1}{\\sqrt{2}} (\\ket{00} + \\ket{11}) = \\ket{\\psi}_A \\otimes \\ket{\\psi}_B\n",
    "> $$\n",
    "> Therefore, we have\n",
    "> $$\n",
    "\\frac{1}{\\sqrt{2}} (\\ket{00} + \\ket{11}) = (\\alpha_A \\ket{0} + \\beta_A \\ket{1}) \\otimes (\\alpha_B \\ket{0} + \\beta_B \\ket{1})\\\\\n",
    "\\frac{1}{\\sqrt{2}} (\\ket{00} + \\ket{11}) = \\alpha_A\\alpha_B \\ket{00} + \\beta_A\\alpha_B \\ket{10} + \\alpha_A\\beta_B \\ket{01} + \\beta_A\\beta_B \\ket{11}\n",
    "> $$\n",
    "> which is equivalent to the following equations:\n",
    ">\n",
    "> - $\\alpha_A\\alpha_B  = \\frac{1}{\\sqrt{2}}$ \n",
    "> - $\\beta_A\\alpha_B = 0$\n",
    "> - $\\alpha_A\\beta_B = 0 $\n",
    "> - $\\beta_A\\beta_B = \\frac{1}{\\sqrt{2}}$\n",
    "> \n",
    "> We see easily the unfeasibility of the system.\n"
   ]
  },
  {
   "cell_type": "markdown",
   "id": "a8c44166",
   "metadata": {},
   "source": [
    "To create $\\ket{\\Psi}$, we apply a Hadamard gate ($H$) on the first qubit (starting from the top) and a $CNOT$ gate on both qubits.\n",
    "\n",
    "> *Proof*:\n",
    "> $$\n",
    "> \\frac{1}{\\sqrt{2}} (\\ket{00} + \\ket{11}) = CNOT((H \\otimes I) \\ket{00})\\\\\n",
    "> $$\n",
    "> where $CNOT= \\begin{bmatrix}1 & 0 & 0 & 0\\\\ 0 & 1 & 0 & 0\\\\ 0 & 0 & 0 & 1\\\\ 0 & 0 & 1 & 0 \\end{bmatrix}$ and $H = \\frac{1}{\\sqrt{2}}\\begin{bmatrix} 1 & 1 \\\\ 1 & -1\\end{bmatrix}$\n",
    "> $$\n",
    "> \\frac{1}{\\sqrt{2}} (\\ket{00} + \\ket{11}) = CNOT(\\ket{+} \\otimes \\ket{0})\\\\\n",
    "> $$\n",
    "> where $\\ket{+} = \\frac{\\ket{0} + \\ket{1}}{\\sqrt{2}}$\n",
    "> $$\n",
    "> \\frac{1}{\\sqrt{2}} (\\ket{00} + \\ket{11}) = CNOT\\left(\\frac{1}{\\sqrt{2}} (\\ket{0} + \\ket{1}) \\otimes \\ket{0}\\right)\\\\\n",
    "> \\frac{1}{\\sqrt{2}} (\\ket{00} + \\ket{11}) = \\frac{1}{\\sqrt{2}}\\begin{bmatrix} 1 & 0 & 0 & 0\\\\ 0 & 1 & 0 & 0\\\\ 0 & 0 & 0 & 1 \\\\ 0 & 0 & 1 & 0\\end{bmatrix}\\begin{bmatrix}1 \\\\0 \\\\ 1\\\\0 \\end{bmatrix}\\\\\n",
    "> \\frac{1}{\\sqrt{2}} (\\ket{00} + \\ket{11}) = \\frac{1}{\\sqrt{2}}\\begin{bmatrix}1 \\\\0 \\\\ 0\\\\1 \\end{bmatrix}\n",
    "\n",
    "> $$"
   ]
  },
  {
   "cell_type": "markdown",
   "id": "78784c41",
   "metadata": {},
   "source": [
    "Let's code the circuit!"
   ]
  },
  {
   "cell_type": "code",
   "execution_count": null,
   "id": "4104c145",
   "metadata": {},
   "outputs": [
    {
     "data": {
      "image/png": "[encoded data removed]",
      "text/plain": [
       "<Figure size 287.294x200.667 with 1 Axes>"
      ]
     },
     "execution_count": 66,
     "metadata": {},
     "output_type": "execute_result"
    }
   ],
   "source": [
    "from qiskit import QuantumCircuit\n",
    "\n",
    "circuit = QuantumCircuit(2)\n",
    "\n",
    "circuit.h(0) # Hadamard gate \n",
    "circuit.cx(0, 1) # CNOT gate\n",
    "\n",
    "circuit.draw(output=\"mpl\")"
   ]
  },
  {
   "cell_type": "markdown",
   "id": "a23552f0",
   "metadata": {},
   "source": [
    "Now, let's run a simulator to see which observables might be seen the most"
   ]
  },
  {
   "cell_type": "code",
   "execution_count": 63,
   "id": "390f8938",
   "metadata": {},
   "outputs": [
    {
     "data": {
      "image/png": "[encoded data removed]",
      "text/plain": [
       "<Figure size 640x480 with 1 Axes>"
      ]
     },
     "metadata": {},
     "output_type": "display_data"
    }
   ],
   "source": [
    "\n",
    "from qiskit.quantum_info import SparsePauliOp\n",
    "from qiskit_ibm_runtime.fake_provider import FakeAlmadenV2\n",
    "from qiskit.transpiler import generate_preset_pass_manager\n",
    "from qiskit_ibm_runtime import EstimatorV2 as Estimator\n",
    "\n",
    "from matplotlib import pyplot as plt\n",
    "\n",
    "backend = FakeAlmadenV2()\n",
    "estimator = Estimator(backend)\n",
    "\n",
    "observables_labels = [\"IZ\", \"IX\", \"ZI\", \"XI\", \"ZZ\", \"XX\"]\n",
    "observables = [SparsePauliOp(label) for label in observables_labels]\n",
    "\n",
    "\n",
    " \n",
    "pm = generate_preset_pass_manager(backend=backend, optimization_level=1)\n",
    "isa_circuit = pm.run(circuit)\n",
    "mapped_observables = [\n",
    "    observable.apply_layout(isa_circuit.layout) for observable in observables\n",
    "]\n",
    " \n",
    "job = estimator.run([(isa_circuit, mapped_observables)])\n",
    "result = job.result()\n",
    "  \n",
    "job_result = job.result()\n",
    " \n",
    "pub_result = job.result()[0]\n",
    "\n",
    "values = pub_result.data.evs\n",
    " \n",
    "errors = pub_result.data.stds\n",
    " \n",
    "plt.plot(observables_labels, values, \"-o\")\n",
    "plt.xlabel(\"Observables\")\n",
    "plt.ylabel(\"Values\")\n",
    "plt.show()"
   ]
  },
  {
   "cell_type": "markdown",
   "id": "f48db46d",
   "metadata": {},
   "source": [
    "## Quantum teleportation protocol\n",
    "\n",
    "The protocol goes as follows. We have two parties involved: Alice and Bob. Alice wants to send a qubit to Bob without giving it explicitly. To do so, Alice and Bob shares a Bell state $\\ket{\\Psi}$ while Alice has the qubit $\\ket{\\phi} = \\alpha \\ket{0} + \\beta \\ket{1}$ she wants to transmit. These are the initial conditions for the protocol. For the entire process, we can follow the quantum circuit below:\n",
    "\n",
    "![image.png](image.png)\n",
    "\n",
    "(the dotted lines outline the spatial distance between Alice and Bob)"
   ]
  },
  {
   "cell_type": "markdown",
   "id": "9d957b8e",
   "metadata": {},
   "source": [
    "We can see that Bob perfoms calculations on his bell state based on the outcome of the measurement from $\\ket{\\phi}$ and her bell state. Let denote the measurement of the qubit $\\ket{\\Psi}$ for the observable $O$ as $M(\\Psi;O) \\in \\{0,1\\}$. We finally define properly all the steps of the protocol:\n",
    "- first step: applying $CNOT$ gate where the target qubit is $\\ket{\\phi}$ and the control qubit is $\\ket{\\Psi}$ \n",
    "- second step: hadamard gate on Alice's qubit $\\ket{\\Psi}$\n",
    "- third step: measurement $a=M(\\phi;Z)$ and $b = M(\\Psi_2;Z)$ where $\\ket{\\Psi}_2$ is the Alice's bell state after application of $CNOT$ and $H$ in the circuit\n",
    "- fourth and last step: application of $Z^aX^b$ on the bell state of Bob\n",
    "\n",
    ">**PROOF OF CORRECTNESS**:\n",
    ">\n",
    "> we will use $\\ket{\\psi_i}$ to denote the state of the system at the i-th step.\n",
    ">\n",
    ">**First step**:\n",
    ">$$\n",
    "\\ket{\\psi_1} = \\ket{\\phi} \\ket{\\Psi} = (\\alpha\\ket{0} + \\beta\\ket{1}) \\otimes \\frac{1}{\\sqrt{2}}(\\ket{00} +\\ket{11}) = \\frac{\\alpha \\ket{000} + \\beta \\ket{100} + \\alpha \\ket{011} + \\beta \\ket{111}}{\\sqrt{2}}\\\\\n",
    ">$$\n",
    ">\n",
    ">**Second step**:\n",
    ">$$\n",
    "\\ket{\\psi_2} = (CNOT_{10} \\otimes I) \\ket{\\psi_1} = \\frac{\\alpha \\ket{000} + \\beta \\ket{100} + \\alpha \\ket{111} + \\beta \\ket{011}}{\\sqrt{2}}\n",
    ">$$\n",
    ">where $CNOT_{10} = \\begin{bmatrix}1 & 0 & 0 & 0\\\\ 0 & 0 & 0 & 1\\\\ 0 & 0 & 1 & 0\\\\ 0 & 1 & 0 & 0\\end{bmatrix}$\n",
    ">\n",
    ">**Third step**:\n",
    ">$$\n",
    "\\ket{\\psi_3} = (I \\otimes H \\otimes I) \\ket{\\psi_2} = \\frac{\\alpha \\ket{0}\\ket{+}\\ket{0} + \\beta \\ket{1}\\ket{+}\\ket{0} + \\alpha \\ket{1}\\ket{-}\\ket{1} + \\beta \\ket{0}\\ket{-}\\ket{1}}{\\sqrt{2}}\n",
    ">$$\n",
    ">where $\\ket{+} = \\frac{\\ket{0} + \\ket{1}}{\\sqrt{2}}$ and $\\ket{-} = \\frac{\\ket{0} - \\ket{1}}{\\sqrt{2}}$\n",
    ">$$\n",
    "\\ket{\\psi_3} = \\frac{\\alpha \\ket{0}\\ket{+}\\ket{0} + \\beta \\ket{1}\\ket{+}\\ket{0} + \\alpha \\ket{1}\\ket{-}\\ket{1} + \\beta \\ket{0}\\ket{-}\\ket{1}}{\\sqrt{2}}\\\\\n",
    "= \\frac{\\alpha(\\ket{000} + \\ket{010})}{2} + \\frac{\\beta(\\ket{100} + \\ket{110})}{2} + \\frac{\\alpha(\\ket{101} - \\ket{111})}{2} +  \\frac{\\beta(\\ket{001} - \\ket{011})}{2}\\\\\n",
    "= \\frac{1}{2}(\\ket{00}(\\alpha\\ket{0} + \\beta\\ket{1})) + \\frac{1}{2}(\\ket{01}(\\alpha\\ket{0} - \\beta\\ket{1})) + \\frac{1}{2}(\\ket{10}(\\beta\\ket{0} + \\alpha\\ket{1})) + \\frac{1}{2}(\\ket{11}(\\beta\\ket{0} - \\alpha\\ket{1}))\n",
    ">$$\n",
    ">\n",
    ">**Fourth step**:\n",
    ">\n",
    "> after measurement of the two first qubits, \n",
    "> - if we get 00 -> $X^0Z^0(\\alpha\\ket{0} + \\beta\\ket{1}) = \\ket{\\phi}$\n",
    "> - if we get 01 -> $X^0Z^1(\\alpha\\ket{0} - \\beta\\ket{1}) = \\ket{\\phi}$\n",
    "> - if we get 10 -> $X^1Z^0(\\beta\\ket{0} + \\alpha\\ket{1}) = \\ket{\\phi}$\n",
    "> - if we get 11 -> $X^1Z^1(\\beta\\ket{0} - \\alpha\\ket{1}) = \\ket{\\phi}$"
   ]
  },
  {
   "cell_type": "code",
   "execution_count": null,
   "id": "acb0331f",
   "metadata": {},
   "outputs": [
    {
     "data": {
      "image/png": "[encoded data removed]",
      "text/plain": [
       "<Figure size 872.774x367.889 with 1 Axes>"
      ]
     },
     "execution_count": 64,
     "metadata": {},
     "output_type": "execute_result"
    }
   ],
   "source": [
    "from qiskit import transpile\n",
    "from qiskit_aer import AerSimulator\n",
    "from qiskit.visualization import plot_histogram\n",
    "\n",
    "circuit = QuantumCircuit(3, 3)\n",
    "\n",
    "#instead of getting |0>, we apply a X gate resulting in |1> for q_0\n",
    "#circuit.x(0) \n",
    "\n",
    "#creation of a Bell state\n",
    "circuit.h(1)\n",
    "circuit.cx(1,2)\n",
    "\n",
    "#first and second step\n",
    "circuit.cx(1,0)\n",
    "circuit.h(1)\n",
    "\n",
    "#third step\n",
    "circuit.measure(0, 0)\n",
    "circuit.measure(1, 1)\n",
    "\n",
    "#fourt step: after measurement, the states are projected into their respective subspaces (no need for using the measurement outcome directly)\n",
    "circuit.cx(0,2)\n",
    "circuit.cz(1, 2)\n",
    "\n",
    "#retrieve q_0 into q_2 and measure\n",
    "circuit.measure(2, 2)\n",
    "\n",
    "circuit.draw(output=\"mpl\")"
   ]
  },
  {
   "cell_type": "markdown",
   "id": "7fdd70f5",
   "metadata": {},
   "source": [
    "Let's apply run a simulator to confirm the theoretical expectation"
   ]
  },
  {
   "cell_type": "code",
   "execution_count": 65,
   "id": "111bf202",
   "metadata": {},
   "outputs": [
    {
     "data": {
      "image/png": "[encoded data removed]",
      "text/plain": [
       "<Figure size 640x480 with 1 Axes>"
      ]
     },
     "execution_count": 65,
     "metadata": {},
     "output_type": "execute_result"
    }
   ],
   "source": [
    "simulator = AerSimulator()\n",
    "circ = transpile(circuit, simulator)\n",
    "\n",
    "result = simulator.run(circ).result()\n",
    "counts = result.get_counts(circ)\n",
    "\n",
    "plot_histogram(counts)"
   ]
  },
  {
   "cell_type": "markdown",
   "id": "758fd612",
   "metadata": {},
   "source": [
    "Since $\\ket{\\phi}$ is initialized as $\\ket{0}$. We indeed have $0$ as the only outcome of the experiment. That protocol can be more assessed by applying a $X$ gate to $\\ket{\\phi}$."
   ]
  }
 ],
 "metadata": {
  "kernelspec": {
   "display_name": "qiskit (3.13.5)",
   "language": "python",
   "name": "python3"
  },
  "language_info": {
   "codemirror_mode": {
    "name": "ipython",
    "version": 3
   },
   "file_extension": ".py",
   "mimetype": "text/x-python",
   "name": "python",
   "nbconvert_exporter": "python",
   "pygments_lexer": "ipython3",
   "version": "3.13.5"
  }
 },
 "nbformat": 4,
 "nbformat_minor": 5
}
